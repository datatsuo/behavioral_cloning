{
 "cells": [
  {
   "cell_type": "code",
   "execution_count": 1,
   "metadata": {
    "scrolled": true
   },
   "outputs": [
    {
     "name": "stderr",
     "output_type": "stream",
     "text": [
      "Using TensorFlow backend.\n"
     ]
    }
   ],
   "source": [
    "import os\n",
    "import csv\n",
    "import cv2 \n",
    "import numpy as np \n",
    "import sklearn\n",
    "from sklearn.model_selection import train_test_split\n",
    "import matplotlib.pyplot as plt\n",
    "import random\n",
    "\n",
    "import keras\n",
    "from keras.models import Sequential, Model\n",
    "from keras.layers import Dense, Conv2D, Dropout, Lambda, Flatten, Cropping2D"
   ]
  },
  {
   "cell_type": "code",
   "execution_count": 2,
   "metadata": {
    "collapsed": true
   },
   "outputs": [],
   "source": [
    "### loading data \n",
    "# read the data from csv files and split into the training/validation set\n",
    "samples = []\n",
    "# from the record with track 1 \n",
    "with open('./data/driving_log.csv') as csvfile:\n",
    "    reader = csv.reader(csvfile)\n",
    "    for line in reader:\n",
    "        samples.append(line)\n",
    "        \n",
    "# from the record with track 2\n",
    "with open('./data2/driving_log.csv') as csvfile:\n",
    "    reader = csv.reader(csvfile)\n",
    "    for line in reader:\n",
    "        samples.append(line)\n",
    "\n",
    "train_samples, validation_samples = train_test_split(samples[0:], test_size = 0.2, random_state = 1) "
   ]
  },
  {
   "cell_type": "code",
   "execution_count": 3,
   "metadata": {
    "collapsed": true
   },
   "outputs": [],
   "source": [
    "# size of the training/validation set\n",
    "# (This is before the data augmentatin, Note also that each sample contains \n",
    "# three images corresponding to center, left and right cameras)\n",
    "train_size = len(train_samples)\n",
    "validation_size = len(validation_samples) \n",
    "\n",
    "# shape of the image is (160, 320, 3), each entry takes a value in [0, 255] (before normalization)\n",
    "# (The stored file name is in thee form of \"/Users/tatsuo/Desktop/data/IMG/....jpg\" and thus\n",
    "# \"/Users/tatsuo/Desktop/\" part should be removed and \"./\" should be added.)\n",
    "name_sample_center = './' + train_samples[0][0][22:]\n",
    "img_sample_center = cv2.imread(name_sample_center)\n",
    "img_shape = img_sample_center.shape"
   ]
  },
  {
   "cell_type": "code",
   "execution_count": 4,
   "metadata": {
    "collapsed": true
   },
   "outputs": [],
   "source": [
    "# ### This part is for generating figures for the write-up\n",
    "# # sample image (center, left, right cameras) as well as flipped center image \n",
    "# name_sample_center = './' + train_samples[0][0][22:]\n",
    "# name_sample_left = './' + train_samples[0][1][22:]\n",
    "# name_sample_right = './' + train_samples[0][2][22:]\n",
    "# img_sample_center = cv2.imread(name_sample_center)\n",
    "# img_sample_left = cv2.imread(name_sample_left)\n",
    "# img_sample_right = cv2.imread(name_sample_right)\n",
    "\n",
    "# img_sample_center_flipped = np.fliplr(img_sample_center)\n",
    "\n",
    "# # plot and save the center image\n",
    "# plt.imshow(cv2.cvtColor(img_sample_center, cv2.COLOR_BGR2RGB))\n",
    "# plt.title('original image (center camera)')\n",
    "# plt.savefig('center.png')\n",
    "# plt.show()\n",
    "\n",
    "# # plot and save the center image and the flipped one\n",
    "# fig=plt.figure(figsize=(12, 3))\n",
    "# fig.add_subplot(1,2,1)\n",
    "# plt.imshow(cv2.cvtColor(img_sample_center, cv2.COLOR_BGR2RGB))\n",
    "# plt.title('original image (center camera)')\n",
    "# fig.add_subplot(1,2,2)\n",
    "# plt.imshow(cv2.cvtColor(img_sample_center_flipped, cv2.COLOR_BGR2RGB))\n",
    "# plt.title('flipped image (center camera)')\n",
    "# plt.savefig('flipped.png')\n",
    "# plt.show()\n",
    "\n",
    "# # plot and save the center, left and right images\n",
    "# fig=plt.figure(figsize=(18, 4))\n",
    "# fig.add_subplot(1,3,1)\n",
    "# plt.imshow(cv2.cvtColor(img_sample_left, cv2.COLOR_BGR2RGB))\n",
    "# plt.title('original image (left camera)')\n",
    "# fig.add_subplot(1,3,2)\n",
    "# plt.imshow(cv2.cvtColor(img_sample_center, cv2.COLOR_BGR2RGB))\n",
    "# plt.title('original image (center camera)')\n",
    "# fig.add_subplot(1,3,3)\n",
    "# plt.imshow(cv2.cvtColor(img_sample_right, cv2.COLOR_BGR2RGB))\n",
    "# plt.title('original image (right camera)')\n",
    "# plt.savefig('three_cameras.png')\n",
    "# plt.show()\n",
    "\n",
    "# # this is for recovery process \n",
    "# name_sample_recover1 = './data/IMG/center_2018_04_08_22_16_34_651.jpg' \n",
    "# name_sample_recover2 = './data/IMG/center_2018_04_08_22_16_35_374.jpg' \n",
    "# name_sample_recover3 = './data/IMG/center_2018_04_08_22_16_36_032.jpg' \n",
    "# img_sample_recover1 = cv2.imread(name_sample_recover1)\n",
    "# img_sample_recover2 = cv2.imread(name_sample_recover2)\n",
    "# img_sample_recover3 = cv2.imread(name_sample_recover3)\n",
    "\n",
    "# fig=plt.figure(figsize=(18, 4))\n",
    "# fig.add_subplot(1,3,1)\n",
    "# plt.imshow(cv2.cvtColor(img_sample_recover1, cv2.COLOR_BGR2RGB))\n",
    "# plt.title('original image 1 (center camera)')\n",
    "# fig.add_subplot(1,3,2)\n",
    "# plt.imshow(cv2.cvtColor(img_sample_recover2, cv2.COLOR_BGR2RGB))\n",
    "# plt.title('original image 2 (center camera)')\n",
    "# fig.add_subplot(1,3,3)\n",
    "# plt.imshow(cv2.cvtColor(img_sample_recover3, cv2.COLOR_BGR2RGB))\n",
    "# plt.title('original image 3 (center camera)')\n",
    "# plt.savefig('recovery.png')\n",
    "# plt.show()"
   ]
  },
  {
   "cell_type": "code",
   "execution_count": 5,
   "metadata": {
    "collapsed": true
   },
   "outputs": [],
   "source": [
    "### the following function carries out  \n",
    "### (1) data augmentation by flipping \n",
    "### (2) preprocessing of images from left/right camera\n",
    "\n",
    "def data_preprocessing(samples, flip_aug = True, three_cameras = True, correction = 0.2): \n",
    "    name_images = []\n",
    "    steerings = []\n",
    "    flips = []\n",
    "    for sample in samples:     \n",
    "        # (The stored file name is in thee form of \"/Users/tatsuo/Desktop/data/IMG/....jpg\" and thus\n",
    "        # \"/Users/tatsuo/Desktop/\" part should be removed and \"./\" should be added.)\n",
    "        path = \"./\"\n",
    "        name_center = path + sample[0][22:]\n",
    "        steering_center = float(sample[3]) # value of steering\n",
    "        \n",
    "        # add image, steering value, label for flip\n",
    "        name_images.append(name_center)\n",
    "        steerings.append(steering_center)\n",
    "        flips.append(0) # 0 means not flipped, 1 means flipped\n",
    "\n",
    "        if(flip_aug == True): # in case of data augmentation by flipping\n",
    "            # add flipped image and the corresponding steering value (minus of the unflipped one), label for flip\n",
    "            name_images.append(name_center)\n",
    "            steerings.append(-steering_center) \n",
    "            flips.append(1)\n",
    "        \n",
    "        if(three_cameras == True): # in case 3 cameras are all used             \n",
    "            # read in images from left and right cameras\n",
    "            name_left = path + sample[1][22:]\n",
    "            name_right = path + sample[2][22:] \n",
    "            # adjust the steering values for left and right images \n",
    "            correction = correction \n",
    "            steering_left = steering_center + correction\n",
    "            steering_right = steering_center - correction\n",
    "            # add images, steering values and labels for flip\n",
    "            name_images.append(name_left)\n",
    "            steerings.append(steering_left)\n",
    "            flips.append(0)\n",
    "            name_images.append(name_right)\n",
    "            steerings.append(steering_right) \n",
    "            flips.append(0)\n",
    "        \n",
    "            if(flip_aug == True):\n",
    "                # add flipped images from left and right cameras\n",
    "                name_images.append(name_left)\n",
    "                steerings.append(-steering_left)  \n",
    "                flips.append(1)\n",
    "                name_images.append(name_right)\n",
    "                steerings.append(-steering_right)  \n",
    "                flips.append(1)\n",
    "                \n",
    "    # shuffling \n",
    "    result = list(zip(name_images, flips, steerings))\n",
    "    random.shuffle(result)\n",
    "    name_images, flips, steerings= zip(*result)\n",
    "        \n",
    "    return name_images, flips, steerings\n"
   ]
  },
  {
   "cell_type": "code",
   "execution_count": 6,
   "metadata": {
    "collapsed": true
   },
   "outputs": [],
   "source": [
    "### define generator used for reading the images little by little in the training/validation process \n",
    "\n",
    "def generator(samples, batch_size = 32, flip_aug = True, three_cameras = True, correction = 0.2):\n",
    "    name_images, flips, steerings= data_preprocessing(samples, flip_aug = flip_aug, \n",
    "                                                               three_cameras = three_cameras, correction = correction)\n",
    "    while 1: \n",
    "        # randomize the samples\n",
    "        preprocessed = list(zip(name_images, flips, steerings))\n",
    "        random.shuffle(preprocessed)\n",
    "        name_images, flips, steerings = zip(*preprocessed)\n",
    "        num_total_samples = len(name_images)\n",
    "        \n",
    "        for offset in range(0, num_total_samples, batch_size):\n",
    "            \n",
    "            batch_name_images = name_images[offset:offset+batch_size]\n",
    "            batch_flips = flips[offset:offset+batch_size]\n",
    "            batch_steering = steerings[offset:offset+batch_size]\n",
    "            \n",
    "            images = []\n",
    "            controls = []\n",
    "            for i in range(len(batch_name_images)):\n",
    "                steering = batch_steering[i]\n",
    "                \n",
    "                if(batch_flips[i] == 0): # if not a flipped image\n",
    "                    image = cv2.imread(batch_name_images[i])\n",
    "                    image = cv2.cvtColor(image, cv2.COLOR_BGR2RGB)\n",
    "                elif(batch_flips[i] == 1): # if a flipped image \n",
    "                    image = np.fliplr(cv2.imread(batch_name_images[i])) # image flipped\n",
    "                    image = cv2.cvtColor(image, cv2.COLOR_BGR2RGB)\n",
    "                    \n",
    "                images.append(image)\n",
    "                controls.append(steering)\n",
    "                \n",
    "            X_train = np.array(images)\n",
    "            y_train = np.array(controls)\n",
    "            \n",
    "            yield sklearn.utils.shuffle(X_train, y_train)\n"
   ]
  },
  {
   "cell_type": "code",
   "execution_count": 7,
   "metadata": {
    "collapsed": true
   },
   "outputs": [],
   "source": [
    "# the following flip_aug and three_cameras are for the training data\n",
    "flip_aug = True # True for flip augmentation, False for no flip augumentation\n",
    "three_cameras = True # True for three cameras, False for center camera only  \n",
    "\n",
    "# size of training set after the data augmentation by flipping and three cameras are used\n",
    "train_size = len(train_samples)*(np.sum(flip_aug)+1)*(2*np.sum(three_cameras)+1)\n",
    "\n",
    "# size of the validation set is unchanged \n",
    "validation_size = len(validation_samples)\n",
    "\n",
    "# batch size \n",
    "batch_size = 32\n",
    "\n",
    "# correction to the steering angles for left/right camera\n",
    "correction = 0.2 "
   ]
  },
  {
   "cell_type": "code",
   "execution_count": 8,
   "metadata": {
    "collapsed": true
   },
   "outputs": [],
   "source": [
    "### create generator for the training set and validation set \n",
    "# note that the augmentation by flip and use of 3 cameras are on training set only\n",
    "train_generator = generator(train_samples, batch_size=batch_size, \n",
    "                                    flip_aug = flip_aug, three_cameras = three_cameras, correction = correction)\n",
    "validation_generator = generator(validation_samples, batch_size=batch_size, \n",
    "                                         flip_aug = False, three_cameras = False)"
   ]
  },
  {
   "cell_type": "code",
   "execution_count": 9,
   "metadata": {},
   "outputs": [
    {
     "name": "stdout",
     "output_type": "stream",
     "text": [
      "_________________________________________________________________\n",
      "Layer (type)                 Output Shape              Param #   \n",
      "=================================================================\n",
      "cropping2d_1 (Cropping2D)    (None, 70, 320, 3)        0         \n",
      "_________________________________________________________________\n",
      "lambda_1 (Lambda)            (None, 70, 320, 3)        0         \n",
      "_________________________________________________________________\n",
      "conv2d_1 (Conv2D)            (None, 33, 158, 24)       1824      \n",
      "_________________________________________________________________\n",
      "conv2d_2 (Conv2D)            (None, 15, 77, 36)        21636     \n",
      "_________________________________________________________________\n",
      "conv2d_3 (Conv2D)            (None, 6, 37, 48)         43248     \n",
      "_________________________________________________________________\n",
      "conv2d_4 (Conv2D)            (None, 4, 35, 64)         27712     \n",
      "_________________________________________________________________\n",
      "conv2d_5 (Conv2D)            (None, 2, 33, 64)         36928     \n",
      "_________________________________________________________________\n",
      "flatten_1 (Flatten)          (None, 4224)              0         \n",
      "_________________________________________________________________\n",
      "dropout_1 (Dropout)          (None, 4224)              0         \n",
      "_________________________________________________________________\n",
      "dense_1 (Dense)              (None, 100)               422500    \n",
      "_________________________________________________________________\n",
      "dropout_2 (Dropout)          (None, 100)               0         \n",
      "_________________________________________________________________\n",
      "dense_2 (Dense)              (None, 50)                5050      \n",
      "_________________________________________________________________\n",
      "dropout_3 (Dropout)          (None, 50)                0         \n",
      "_________________________________________________________________\n",
      "dense_3 (Dense)              (None, 10)                510       \n",
      "_________________________________________________________________\n",
      "dropout_4 (Dropout)          (None, 10)                0         \n",
      "_________________________________________________________________\n",
      "dense_4 (Dense)              (None, 1)                 11        \n",
      "=================================================================\n",
      "Total params: 559,419.0\n",
      "Trainable params: 559,419.0\n",
      "Non-trainable params: 0.0\n",
      "_________________________________________________________________\n"
     ]
    }
   ],
   "source": [
    "### building neural network with keras\n",
    "### input: image with shape (160, 320, 3)\n",
    "### output: the values for steering\n",
    "\n",
    "model = Sequential()\n",
    "# cropping images (remove upper 65 pixels and bottom 25 pixels)\n",
    "model.add(Cropping2D(cropping=((65,25), (0,0)), input_shape=img_shape))\n",
    "# normalization\n",
    "model.add(Lambda(lambda x: x/255.0 - 0.5)) \n",
    "# convlutional layers\n",
    "model.add(Conv2D(filters = 24, kernel_size = 5, strides = (2, 2), padding = 'valid', activation = 'relu'))\n",
    "model.add(Conv2D(filters = 36, kernel_size = 5, strides = (2, 2), padding = 'valid', activation = 'relu'))\n",
    "model.add(Conv2D(filters = 48, kernel_size = 5, strides = (2, 2), padding = 'valid', activation = 'relu'))\n",
    "model.add(Conv2D(filters = 64, kernel_size = 3, strides = (1, 1), padding = 'valid', activation = 'relu'))\n",
    "model.add(Conv2D(filters = 64, kernel_size = 3, strides = (1, 1), padding = 'valid', activation = 'relu'))\n",
    "model.add(Flatten()) \n",
    "# fully connected layers \n",
    "model.add(Dropout(0.2))\n",
    "model.add(Dense(100, activation = 'relu'))\n",
    "model.add(Dropout(0.2))\n",
    "model.add(Dense(50, activation = 'relu'))\n",
    "model.add(Dropout(0.2))\n",
    "model.add(Dense(10, activation = 'relu'))\n",
    "model.add(Dropout(0.2))\n",
    "model.add(Dense(1)) \n",
    "\n",
    "# adam optimizer is used, loss function is mean squared error   \n",
    "model.compile(optimizer = 'adam', loss = 'mse') \n",
    "# # in case one wants to see the accuracy, use the below instead  \n",
    "# model.compile(optimizer = 'adam', loss = 'mse', metrics = ['accuracy']) \n",
    "\n",
    "model.summary()"
   ]
  },
  {
   "cell_type": "code",
   "execution_count": 10,
   "metadata": {},
   "outputs": [
    {
     "name": "stdout",
     "output_type": "stream",
     "text": [
      "Epoch 1/5\n",
      "1787/1787 [==============================] - 94s - loss: 0.0716 - val_loss: 0.0469\n",
      "Epoch 2/5\n",
      "1787/1787 [==============================] - 92s - loss: 0.0593 - val_loss: 0.0473\n",
      "Epoch 3/5\n",
      "1787/1787 [==============================] - 92s - loss: 0.0564 - val_loss: 0.0436\n",
      "Epoch 4/5\n",
      "1787/1787 [==============================] - 92s - loss: 0.0539 - val_loss: 0.0442s: 0.054\n",
      "Epoch 5/5\n",
      "1787/1787 [==============================] - 93s - loss: 0.0529 - val_loss: 0.0421\n",
      "model saved\n"
     ]
    }
   ],
   "source": [
    "### train the model and save the model \n",
    "\n",
    "history_object =  model.fit_generator(train_generator, steps_per_epoch = train_size // batch_size,  \n",
    "                        validation_data = validation_generator,  validation_steps = validation_size // batch_size, \n",
    "                            epochs = 5, verbose = 1)\n",
    "model.save('model.h5')\n",
    "print(\"model saved\")"
   ]
  },
  {
   "cell_type": "code",
   "execution_count": 11,
   "metadata": {},
   "outputs": [
    {
     "data": {
      "image/png": "[encoded data removed]",
      "text/plain": [
       "<matplotlib.figure.Figure at 0x7fb94bb87b38>"
      ]
     },
     "metadata": {},
     "output_type": "display_data"
    }
   ],
   "source": [
    "### Visualizing loss function for training/validation set\n",
    "\n",
    "plt.plot(history_object.history['loss'])\n",
    "plt.plot(history_object.history['val_loss'])\n",
    "plt.title('history of mean squared error')\n",
    "plt.ylabel('mean squared error')\n",
    "plt.xlabel('epoch')\n",
    "plt.legend(['training set', 'validation set'], loc='upper right')\n",
    "plt.savefig('history_loss.png')\n",
    "plt.show()"
   ]
  },
  {
   "cell_type": "code",
   "execution_count": null,
   "metadata": {
    "collapsed": true
   },
   "outputs": [],
   "source": []
  }
 ],
 "metadata": {
  "kernelspec": {
   "display_name": "Python 3",
   "language": "python",
   "name": "python3"
  },
  "language_info": {
   "codemirror_mode": {
    "name": "ipython",
    "version": 3
   },
   "file_extension": ".py",
   "mimetype": "text/x-python",
   "name": "python",
   "nbconvert_exporter": "python",
   "pygments_lexer": "ipython3",
   "version": "3.6.1"
  }
 },
 "nbformat": 4,
 "nbformat_minor": 2
}
